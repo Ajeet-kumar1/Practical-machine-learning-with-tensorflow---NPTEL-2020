{
  "nbformat": 4,
  "nbformat_minor": 0,
  "metadata": {
    "colab": {
      "name": "Assignment_6_Estimators (part -2).ipynb",
      "provenance": [],
      "collapsed_sections": []
    },
    "kernelspec": {
      "name": "python3",
      "display_name": "Python 3"
    }
  },
  "cells": [
    {
      "cell_type": "markdown",
      "metadata": {
        "id": "iAnLaWDqPFfo"
      },
      "source": [
        "Note this notebook is for the Question no 2 and 3"
      ]
    },
    {
      "cell_type": "markdown",
      "metadata": {
        "id": "oCkkOXBsPaFW"
      },
      "source": [
        "# Setup"
      ]
    },
    {
      "cell_type": "code",
      "metadata": {
        "id": "U-M7TE6eHl6O",
        "outputId": "7d9f9009-142d-4390-da89-d0197192e437",
        "colab": {
          "base_uri": "https://localhost:8080/",
          "height": 642
        }
      },
      "source": [
        "!pip install tensorflow==2.0.0-rc0\n",
        "\n",
        "from sklearn.model_selection import train_test_split\n",
        "from sklearn.datasets import load_boston\n",
        "import tensorflow as tf\n",
        "import pandas as pd\n",
        "import numpy as np\n",
        "\n",
        "import matplotlib.pyplot as plt\n",
        "import seaborn as sns\n",
        "sns_colors = sns.color_palette('colorblind')\n",
        "\n",
        "tf.random.set_seed(1)"
      ],
      "execution_count": 1,
      "outputs": [
        {
          "output_type": "stream",
          "text": [
            "Collecting tensorflow==2.0.0-rc0\n",
            "\u001b[?25l  Downloading https://files.pythonhosted.org/packages/fb/4b/77f0965ec7e8a76d3dcd6a22ca8bbd2b934cd92c4ded43fef6bea5ff3258/tensorflow-2.0.0rc0-cp36-cp36m-manylinux2010_x86_64.whl (86.3MB)\n",
            "\u001b[K     |████████████████████████████████| 86.3MB 108kB/s \n",
            "\u001b[?25hCollecting keras-applications>=1.0.8\n",
            "\u001b[?25l  Downloading https://files.pythonhosted.org/packages/71/e3/19762fdfc62877ae9102edf6342d71b28fbfd9dea3d2f96a882ce099b03f/Keras_Applications-1.0.8-py3-none-any.whl (50kB)\n",
            "\u001b[K     |████████████████████████████████| 51kB 6.6MB/s \n",
            "\u001b[?25hRequirement already satisfied: google-pasta>=0.1.6 in /usr/local/lib/python3.6/dist-packages (from tensorflow==2.0.0-rc0) (0.2.0)\n",
            "Collecting tf-estimator-nightly<1.14.0.dev2019080602,>=1.14.0.dev2019080601\n",
            "\u001b[?25l  Downloading https://files.pythonhosted.org/packages/21/28/f2a27a62943d5f041e4a6fd404b2d21cb7c59b2242a4e73b03d9ba166552/tf_estimator_nightly-1.14.0.dev2019080601-py2.py3-none-any.whl (501kB)\n",
            "\u001b[K     |████████████████████████████████| 501kB 46.0MB/s \n",
            "\u001b[?25hRequirement already satisfied: astor>=0.6.0 in /usr/local/lib/python3.6/dist-packages (from tensorflow==2.0.0-rc0) (0.8.1)\n",
            "Requirement already satisfied: absl-py>=0.7.0 in /usr/local/lib/python3.6/dist-packages (from tensorflow==2.0.0-rc0) (0.10.0)\n",
            "Requirement already satisfied: keras-preprocessing>=1.0.5 in /usr/local/lib/python3.6/dist-packages (from tensorflow==2.0.0-rc0) (1.1.2)\n",
            "Collecting tb-nightly<1.15.0a20190807,>=1.15.0a20190806\n",
            "\u001b[?25l  Downloading https://files.pythonhosted.org/packages/bc/88/24b5fb7280e74c7cf65bde47c171547fd02afb3840cff41bcbe9270650f5/tb_nightly-1.15.0a20190806-py3-none-any.whl (4.3MB)\n",
            "\u001b[K     |████████████████████████████████| 4.3MB 43.6MB/s \n",
            "\u001b[?25hRequirement already satisfied: opt-einsum>=2.3.2 in /usr/local/lib/python3.6/dist-packages (from tensorflow==2.0.0-rc0) (3.3.0)\n",
            "Requirement already satisfied: numpy<2.0,>=1.16.0 in /usr/local/lib/python3.6/dist-packages (from tensorflow==2.0.0-rc0) (1.18.5)\n",
            "Requirement already satisfied: six>=1.10.0 in /usr/local/lib/python3.6/dist-packages (from tensorflow==2.0.0-rc0) (1.15.0)\n",
            "Requirement already satisfied: protobuf>=3.6.1 in /usr/local/lib/python3.6/dist-packages (from tensorflow==2.0.0-rc0) (3.12.4)\n",
            "Requirement already satisfied: wrapt>=1.11.1 in /usr/local/lib/python3.6/dist-packages (from tensorflow==2.0.0-rc0) (1.12.1)\n",
            "Requirement already satisfied: grpcio>=1.8.6 in /usr/local/lib/python3.6/dist-packages (from tensorflow==2.0.0-rc0) (1.33.1)\n",
            "Requirement already satisfied: gast>=0.2.0 in /usr/local/lib/python3.6/dist-packages (from tensorflow==2.0.0-rc0) (0.3.3)\n",
            "Requirement already satisfied: termcolor>=1.1.0 in /usr/local/lib/python3.6/dist-packages (from tensorflow==2.0.0-rc0) (1.1.0)\n",
            "Requirement already satisfied: wheel>=0.26 in /usr/local/lib/python3.6/dist-packages (from tensorflow==2.0.0-rc0) (0.35.1)\n",
            "Requirement already satisfied: h5py in /usr/local/lib/python3.6/dist-packages (from keras-applications>=1.0.8->tensorflow==2.0.0-rc0) (2.10.0)\n",
            "Requirement already satisfied: werkzeug>=0.11.15 in /usr/local/lib/python3.6/dist-packages (from tb-nightly<1.15.0a20190807,>=1.15.0a20190806->tensorflow==2.0.0-rc0) (1.0.1)\n",
            "Requirement already satisfied: markdown>=2.6.8 in /usr/local/lib/python3.6/dist-packages (from tb-nightly<1.15.0a20190807,>=1.15.0a20190806->tensorflow==2.0.0-rc0) (3.3.2)\n",
            "Requirement already satisfied: setuptools>=41.0.0 in /usr/local/lib/python3.6/dist-packages (from tb-nightly<1.15.0a20190807,>=1.15.0a20190806->tensorflow==2.0.0-rc0) (50.3.0)\n",
            "Requirement already satisfied: importlib-metadata; python_version < \"3.8\" in /usr/local/lib/python3.6/dist-packages (from markdown>=2.6.8->tb-nightly<1.15.0a20190807,>=1.15.0a20190806->tensorflow==2.0.0-rc0) (2.0.0)\n",
            "Requirement already satisfied: zipp>=0.5 in /usr/local/lib/python3.6/dist-packages (from importlib-metadata; python_version < \"3.8\"->markdown>=2.6.8->tb-nightly<1.15.0a20190807,>=1.15.0a20190806->tensorflow==2.0.0-rc0) (3.3.1)\n",
            "Installing collected packages: keras-applications, tf-estimator-nightly, tb-nightly, tensorflow\n",
            "  Found existing installation: tensorflow 2.3.0\n",
            "    Uninstalling tensorflow-2.3.0:\n",
            "      Successfully uninstalled tensorflow-2.3.0\n",
            "Successfully installed keras-applications-1.0.8 tb-nightly-1.15.0a20190806 tensorflow-2.0.0rc0 tf-estimator-nightly-1.14.0.dev2019080601\n"
          ],
          "name": "stdout"
        }
      ]
    },
    {
      "cell_type": "markdown",
      "metadata": {
        "id": "w2tdVbEyPdGe"
      },
      "source": [
        "# Importing the dataset"
      ]
    },
    {
      "cell_type": "code",
      "metadata": {
        "id": "rEzaMYlYHuUn"
      },
      "source": [
        "\n",
        "boston_dataset = load_boston()\n",
        "\n",
        "data_X = pd.DataFrame(boston_dataset.data, columns=boston_dataset.feature_names)\n",
        "data_Y = pd.DataFrame(boston_dataset.target, columns=[\"target\"])\n",
        "data = pd.concat([data_X, data_Y], axis=1)"
      ],
      "execution_count": 2,
      "outputs": []
    },
    {
      "cell_type": "code",
      "metadata": {
        "id": "7YkUQF6LHxoz",
        "outputId": "a39c62e1-27bb-4157-909c-b8fe142eb4b6",
        "colab": {
          "base_uri": "https://localhost:8080/",
          "height": 50
        }
      },
      "source": [
        "train, test = train_test_split(data, test_size=0.2, random_state=1)\n",
        "print(len(train), \"train examples\")\n",
        "print(len(test), \"test examples\")\n"
      ],
      "execution_count": 3,
      "outputs": [
        {
          "output_type": "stream",
          "text": [
            "404 train examples\n",
            "102 test examples\n"
          ],
          "name": "stdout"
        }
      ]
    },
    {
      "cell_type": "code",
      "metadata": {
        "id": "SK66zZQMH2Kp"
      },
      "source": [
        "def df_to_dataset(dataframe, shuffle_and_repeat=True, batch_size=32):\n",
        "  dataframe = dataframe.copy()\n",
        "  labels = dataframe.pop('target')\n",
        "  ds = tf.data.Dataset.from_tensor_slices((dict(dataframe), labels))\n",
        "  if shuffle_and_repeat:\n",
        "    ds = ds.shuffle(buffer_size=len(dataframe))\n",
        "    ds = ds.repeat()\n",
        "    \n",
        "  ds = ds.batch(batch_size)\n",
        "  \n",
        "  return ds"
      ],
      "execution_count": 4,
      "outputs": []
    },
    {
      "cell_type": "code",
      "metadata": {
        "id": "c2g1iyJZH6vz",
        "outputId": "9e415fa1-f742-4f42-d6c9-3ea2cf0a569f",
        "colab": {
          "base_uri": "https://localhost:8080/",
          "height": 195
        }
      },
      "source": [
        "test.head()"
      ],
      "execution_count": 5,
      "outputs": [
        {
          "output_type": "execute_result",
          "data": {
            "text/html": [
              "<div>\n",
              "<style scoped>\n",
              "    .dataframe tbody tr th:only-of-type {\n",
              "        vertical-align: middle;\n",
              "    }\n",
              "\n",
              "    .dataframe tbody tr th {\n",
              "        vertical-align: top;\n",
              "    }\n",
              "\n",
              "    .dataframe thead th {\n",
              "        text-align: right;\n",
              "    }\n",
              "</style>\n",
              "<table border=\"1\" class=\"dataframe\">\n",
              "  <thead>\n",
              "    <tr style=\"text-align: right;\">\n",
              "      <th></th>\n",
              "      <th>CRIM</th>\n",
              "      <th>ZN</th>\n",
              "      <th>INDUS</th>\n",
              "      <th>CHAS</th>\n",
              "      <th>NOX</th>\n",
              "      <th>RM</th>\n",
              "      <th>AGE</th>\n",
              "      <th>DIS</th>\n",
              "      <th>RAD</th>\n",
              "      <th>TAX</th>\n",
              "      <th>PTRATIO</th>\n",
              "      <th>B</th>\n",
              "      <th>LSTAT</th>\n",
              "      <th>target</th>\n",
              "    </tr>\n",
              "  </thead>\n",
              "  <tbody>\n",
              "    <tr>\n",
              "      <th>307</th>\n",
              "      <td>0.04932</td>\n",
              "      <td>33.0</td>\n",
              "      <td>2.18</td>\n",
              "      <td>0.0</td>\n",
              "      <td>0.472</td>\n",
              "      <td>6.849</td>\n",
              "      <td>70.3</td>\n",
              "      <td>3.1827</td>\n",
              "      <td>7.0</td>\n",
              "      <td>222.0</td>\n",
              "      <td>18.4</td>\n",
              "      <td>396.90</td>\n",
              "      <td>7.53</td>\n",
              "      <td>28.2</td>\n",
              "    </tr>\n",
              "    <tr>\n",
              "      <th>343</th>\n",
              "      <td>0.02543</td>\n",
              "      <td>55.0</td>\n",
              "      <td>3.78</td>\n",
              "      <td>0.0</td>\n",
              "      <td>0.484</td>\n",
              "      <td>6.696</td>\n",
              "      <td>56.4</td>\n",
              "      <td>5.7321</td>\n",
              "      <td>5.0</td>\n",
              "      <td>370.0</td>\n",
              "      <td>17.6</td>\n",
              "      <td>396.90</td>\n",
              "      <td>7.18</td>\n",
              "      <td>23.9</td>\n",
              "    </tr>\n",
              "    <tr>\n",
              "      <th>47</th>\n",
              "      <td>0.22927</td>\n",
              "      <td>0.0</td>\n",
              "      <td>6.91</td>\n",
              "      <td>0.0</td>\n",
              "      <td>0.448</td>\n",
              "      <td>6.030</td>\n",
              "      <td>85.5</td>\n",
              "      <td>5.6894</td>\n",
              "      <td>3.0</td>\n",
              "      <td>233.0</td>\n",
              "      <td>17.9</td>\n",
              "      <td>392.74</td>\n",
              "      <td>18.80</td>\n",
              "      <td>16.6</td>\n",
              "    </tr>\n",
              "    <tr>\n",
              "      <th>67</th>\n",
              "      <td>0.05789</td>\n",
              "      <td>12.5</td>\n",
              "      <td>6.07</td>\n",
              "      <td>0.0</td>\n",
              "      <td>0.409</td>\n",
              "      <td>5.878</td>\n",
              "      <td>21.4</td>\n",
              "      <td>6.4980</td>\n",
              "      <td>4.0</td>\n",
              "      <td>345.0</td>\n",
              "      <td>18.9</td>\n",
              "      <td>396.21</td>\n",
              "      <td>8.10</td>\n",
              "      <td>22.0</td>\n",
              "    </tr>\n",
              "    <tr>\n",
              "      <th>362</th>\n",
              "      <td>3.67822</td>\n",
              "      <td>0.0</td>\n",
              "      <td>18.10</td>\n",
              "      <td>0.0</td>\n",
              "      <td>0.770</td>\n",
              "      <td>5.362</td>\n",
              "      <td>96.2</td>\n",
              "      <td>2.1036</td>\n",
              "      <td>24.0</td>\n",
              "      <td>666.0</td>\n",
              "      <td>20.2</td>\n",
              "      <td>380.79</td>\n",
              "      <td>10.19</td>\n",
              "      <td>20.8</td>\n",
              "    </tr>\n",
              "  </tbody>\n",
              "</table>\n",
              "</div>"
            ],
            "text/plain": [
              "        CRIM    ZN  INDUS  CHAS    NOX  ...    TAX  PTRATIO       B  LSTAT  target\n",
              "307  0.04932  33.0   2.18   0.0  0.472  ...  222.0     18.4  396.90   7.53    28.2\n",
              "343  0.02543  55.0   3.78   0.0  0.484  ...  370.0     17.6  396.90   7.18    23.9\n",
              "47   0.22927   0.0   6.91   0.0  0.448  ...  233.0     17.9  392.74  18.80    16.6\n",
              "67   0.05789  12.5   6.07   0.0  0.409  ...  345.0     18.9  396.21   8.10    22.0\n",
              "362  3.67822   0.0  18.10   0.0  0.770  ...  666.0     20.2  380.79  10.19    20.8\n",
              "\n",
              "[5 rows x 14 columns]"
            ]
          },
          "metadata": {
            "tags": []
          },
          "execution_count": 5
        }
      ]
    },
    {
      "cell_type": "code",
      "metadata": {
        "id": "CZZXvvEmH-Sd"
      },
      "source": [
        "train_y=train.pop('target')\n",
        "test_y=test.pop('target')"
      ],
      "execution_count": 6,
      "outputs": []
    },
    {
      "cell_type": "code",
      "metadata": {
        "id": "5KEebTNCIBWA"
      },
      "source": [
        "def input_fn(features,labels,training=True,batch_size=256):\n",
        "  dataset=tf.data.Dataset.from_tensor_slices((dict(features),labels))\n",
        "  if training:\n",
        "    dataset=dataset.shuffle(1000).repeat()\n",
        "  return dataset.batch(batch_size)"
      ],
      "execution_count": 8,
      "outputs": []
    },
    {
      "cell_type": "markdown",
      "metadata": {
        "id": "Hb8nW55lPlK7"
      },
      "source": [
        "**Defining Feature Columns**"
      ]
    },
    {
      "cell_type": "code",
      "metadata": {
        "id": "iMqIlhjSIFhV",
        "outputId": "39482bf9-9cbb-442f-8d6e-6af1ae2d7b8e",
        "colab": {
          "base_uri": "https://localhost:8080/",
          "height": 218
        }
      },
      "source": [
        "feature_columns = []\n",
        "for key in data_X.keys():\n",
        "  if key == 'RAD':\n",
        "    continue\n",
        "  feature_columns.append(tf.feature_column.numeric_column(key))\n",
        "\n",
        "feature_columns"
      ],
      "execution_count": 9,
      "outputs": [
        {
          "output_type": "execute_result",
          "data": {
            "text/plain": [
              "[NumericColumn(key='CRIM', shape=(1,), default_value=None, dtype=tf.float32, normalizer_fn=None),\n",
              " NumericColumn(key='ZN', shape=(1,), default_value=None, dtype=tf.float32, normalizer_fn=None),\n",
              " NumericColumn(key='INDUS', shape=(1,), default_value=None, dtype=tf.float32, normalizer_fn=None),\n",
              " NumericColumn(key='CHAS', shape=(1,), default_value=None, dtype=tf.float32, normalizer_fn=None),\n",
              " NumericColumn(key='NOX', shape=(1,), default_value=None, dtype=tf.float32, normalizer_fn=None),\n",
              " NumericColumn(key='RM', shape=(1,), default_value=None, dtype=tf.float32, normalizer_fn=None),\n",
              " NumericColumn(key='AGE', shape=(1,), default_value=None, dtype=tf.float32, normalizer_fn=None),\n",
              " NumericColumn(key='DIS', shape=(1,), default_value=None, dtype=tf.float32, normalizer_fn=None),\n",
              " NumericColumn(key='TAX', shape=(1,), default_value=None, dtype=tf.float32, normalizer_fn=None),\n",
              " NumericColumn(key='PTRATIO', shape=(1,), default_value=None, dtype=tf.float32, normalizer_fn=None),\n",
              " NumericColumn(key='B', shape=(1,), default_value=None, dtype=tf.float32, normalizer_fn=None),\n",
              " NumericColumn(key='LSTAT', shape=(1,), default_value=None, dtype=tf.float32, normalizer_fn=None)]"
            ]
          },
          "metadata": {
            "tags": []
          },
          "execution_count": 9
        }
      ]
    },
    {
      "cell_type": "markdown",
      "metadata": {
        "id": "waKoFyHPPWgo"
      },
      "source": [
        "# Building the model"
      ]
    },
    {
      "cell_type": "code",
      "metadata": {
        "id": "VbnrEsAyIRiT",
        "outputId": "c99e1020-6ae6-49e8-a2df-476df20625eb",
        "colab": {
          "base_uri": "https://localhost:8080/",
          "height": 171
        }
      },
      "source": [
        "config = tf.estimator.RunConfig(tf_random_seed=1)\n",
        "\n",
        "model=tf.estimator.DNNRegressor(\n",
        "    feature_columns=feature_columns,\n",
        "    hidden_units=[15],\n",
        "    config=config\n",
        ")"
      ],
      "execution_count": 10,
      "outputs": [
        {
          "output_type": "stream",
          "text": [
            "WARNING:tensorflow:Using temporary folder as model directory: /tmp/tmp87tla0d2\n",
            "INFO:tensorflow:Using config: {'_model_dir': '/tmp/tmp87tla0d2', '_tf_random_seed': 1, '_save_summary_steps': 100, '_save_checkpoints_steps': None, '_save_checkpoints_secs': 600, '_session_config': allow_soft_placement: true\n",
            "graph_options {\n",
            "  rewrite_options {\n",
            "    meta_optimizer_iterations: ONE\n",
            "  }\n",
            "}\n",
            ", '_keep_checkpoint_max': 5, '_keep_checkpoint_every_n_hours': 10000, '_log_step_count_steps': 100, '_train_distribute': None, '_device_fn': None, '_protocol': None, '_eval_distribute': None, '_experimental_distribute': None, '_experimental_max_worker_delay_secs': None, '_service': None, '_cluster_spec': <tensorflow.python.training.server_lib.ClusterSpec object at 0x7f2df2bf5160>, '_task_type': 'worker', '_task_id': 0, '_global_id_in_cluster': 0, '_master': '', '_evaluation_master': '', '_is_chief': True, '_num_ps_replicas': 0, '_num_worker_replicas': 1}\n"
          ],
          "name": "stdout"
        }
      ]
    },
    {
      "cell_type": "markdown",
      "metadata": {
        "id": "i3lzdmRfPxoA"
      },
      "source": [
        "**Train the model**"
      ]
    },
    {
      "cell_type": "code",
      "metadata": {
        "id": "ilYO7IBbIkdH",
        "outputId": "2df93921-b344-40c1-8fc9-9d6b86b97d84",
        "colab": {
          "base_uri": "https://localhost:8080/",
          "height": 1000
        }
      },
      "source": [
        "model.train(\n",
        "input_fn=lambda:input_fn(train,train_y,training=True),\n",
        "    steps=5000\n",
        ")"
      ],
      "execution_count": 11,
      "outputs": [
        {
          "output_type": "stream",
          "text": [
            "WARNING:tensorflow:From /usr/local/lib/python3.6/dist-packages/tensorflow_core/python/ops/resource_variable_ops.py:1630: calling BaseResourceVariable.__init__ (from tensorflow.python.ops.resource_variable_ops) with constraint is deprecated and will be removed in a future version.\n",
            "Instructions for updating:\n",
            "If using Keras pass *_constraint arguments to layers.\n",
            "WARNING:tensorflow:From /usr/local/lib/python3.6/dist-packages/tensorflow_core/python/training/training_util.py:236: Variable.initialized_value (from tensorflow.python.ops.variables) is deprecated and will be removed in a future version.\n",
            "Instructions for updating:\n",
            "Use Variable.read_value. Variables in 2.X are initialized automatically both in eager and graph (inside tf.defun) contexts.\n",
            "WARNING:tensorflow:From /usr/local/lib/python3.6/dist-packages/tensorflow_core/python/data/util/random_seed.py:58: where (from tensorflow.python.ops.array_ops) is deprecated and will be removed in a future version.\n",
            "Instructions for updating:\n",
            "Use tf.where in 2.0, which has the same broadcast rule as np.where\n",
            "INFO:tensorflow:Calling model_fn.\n",
            "WARNING:tensorflow:Layer dnn is casting an input tensor from dtype float64 to the layer's dtype of float32, which is new behavior in TensorFlow 2.  The layer has dtype float32 because it's dtype defaults to floatx.\n",
            "\n",
            "If you intended to run this layer in float32, you can safely ignore this warning. If in doubt, this warning is likely only an issue if you are porting a TensorFlow 1.X model to TensorFlow 2.\n",
            "\n",
            "To change all layers to have dtype float64 by default, call `tf.keras.backend.set_floatx('float64')`. To change just this layer, pass dtype='float64' to the layer constructor. If you are the author of this layer, you can disable autocasting by passing autocast=False to the base Layer constructor.\n",
            "\n",
            "WARNING:tensorflow:Entity <bound method _DNNModelV2.call of <tensorflow_estimator.python.estimator.canned.dnn._DNNModelV2 object at 0x7f2df21ffcc0>> could not be transformed and will be executed as-is. Please report this to the AutoGraph team. When filing the bug, set the verbosity to 10 (on Linux, `export AUTOGRAPH_VERBOSITY=10`) and attach the full output. Cause: module 'gast' has no attribute 'Num'\n",
            "WARNING: Entity <bound method _DNNModelV2.call of <tensorflow_estimator.python.estimator.canned.dnn._DNNModelV2 object at 0x7f2df21ffcc0>> could not be transformed and will be executed as-is. Please report this to the AutoGraph team. When filing the bug, set the verbosity to 10 (on Linux, `export AUTOGRAPH_VERBOSITY=10`) and attach the full output. Cause: module 'gast' has no attribute 'Num'\n",
            "WARNING:tensorflow:From /usr/local/lib/python3.6/dist-packages/tensorflow_estimator/python/estimator/head/base_head.py:550: to_float (from tensorflow.python.ops.math_ops) is deprecated and will be removed in a future version.\n",
            "Instructions for updating:\n",
            "Use `tf.cast` instead.\n",
            "WARNING:tensorflow:From /usr/local/lib/python3.6/dist-packages/tensorflow_core/python/keras/optimizer_v2/adagrad.py:108: calling Constant.__init__ (from tensorflow.python.ops.init_ops) with dtype is deprecated and will be removed in a future version.\n",
            "Instructions for updating:\n",
            "Call initializer instance with the dtype argument instead of passing it to the constructor\n",
            "WARNING:tensorflow:From /usr/local/lib/python3.6/dist-packages/tensorflow_estimator/python/estimator/model_fn.py:337: scalar (from tensorflow.python.framework.tensor_shape) is deprecated and will be removed in a future version.\n",
            "Instructions for updating:\n",
            "Use tf.TensorShape([]).\n",
            "INFO:tensorflow:Done calling model_fn.\n",
            "INFO:tensorflow:Create CheckpointSaverHook.\n",
            "INFO:tensorflow:Graph was finalized.\n",
            "INFO:tensorflow:Running local_init_op.\n",
            "INFO:tensorflow:Done running local_init_op.\n",
            "INFO:tensorflow:Saving checkpoints for 0 into /tmp/tmp87tla0d2/model.ckpt.\n",
            "INFO:tensorflow:loss = 1227.7604, step = 0\n",
            "INFO:tensorflow:global_step/sec: 227.584\n",
            "INFO:tensorflow:loss = 192.87956, step = 100 (0.443 sec)\n",
            "INFO:tensorflow:global_step/sec: 261.676\n",
            "INFO:tensorflow:loss = 118.02481, step = 200 (0.380 sec)\n",
            "INFO:tensorflow:global_step/sec: 265.871\n",
            "INFO:tensorflow:loss = 86.39311, step = 300 (0.376 sec)\n",
            "INFO:tensorflow:global_step/sec: 265.385\n",
            "INFO:tensorflow:loss = 88.922356, step = 400 (0.382 sec)\n",
            "INFO:tensorflow:global_step/sec: 242.398\n",
            "INFO:tensorflow:loss = 73.09772, step = 500 (0.409 sec)\n",
            "INFO:tensorflow:global_step/sec: 246.123\n",
            "INFO:tensorflow:loss = 64.246956, step = 600 (0.408 sec)\n",
            "INFO:tensorflow:global_step/sec: 260.413\n",
            "INFO:tensorflow:loss = 84.3586, step = 700 (0.383 sec)\n",
            "INFO:tensorflow:global_step/sec: 266.58\n",
            "INFO:tensorflow:loss = 65.57454, step = 800 (0.373 sec)\n",
            "INFO:tensorflow:global_step/sec: 277.11\n",
            "INFO:tensorflow:loss = 75.00009, step = 900 (0.361 sec)\n",
            "INFO:tensorflow:global_step/sec: 254.229\n",
            "INFO:tensorflow:loss = 70.6545, step = 1000 (0.394 sec)\n",
            "INFO:tensorflow:global_step/sec: 260.763\n",
            "INFO:tensorflow:loss = 63.29683, step = 1100 (0.383 sec)\n",
            "INFO:tensorflow:global_step/sec: 266.268\n",
            "INFO:tensorflow:loss = 65.69441, step = 1200 (0.378 sec)\n",
            "INFO:tensorflow:global_step/sec: 266.59\n",
            "INFO:tensorflow:loss = 72.51453, step = 1300 (0.373 sec)\n",
            "INFO:tensorflow:global_step/sec: 258.227\n",
            "INFO:tensorflow:loss = 65.94616, step = 1400 (0.387 sec)\n",
            "INFO:tensorflow:global_step/sec: 247.14\n",
            "INFO:tensorflow:loss = 52.87126, step = 1500 (0.408 sec)\n",
            "INFO:tensorflow:global_step/sec: 263.339\n",
            "INFO:tensorflow:loss = 62.451393, step = 1600 (0.378 sec)\n",
            "INFO:tensorflow:global_step/sec: 256.854\n",
            "INFO:tensorflow:loss = 57.337093, step = 1700 (0.390 sec)\n",
            "INFO:tensorflow:global_step/sec: 258.874\n",
            "INFO:tensorflow:loss = 60.72914, step = 1800 (0.387 sec)\n",
            "INFO:tensorflow:global_step/sec: 249.636\n",
            "INFO:tensorflow:loss = 58.77015, step = 1900 (0.398 sec)\n",
            "INFO:tensorflow:global_step/sec: 260.392\n",
            "INFO:tensorflow:loss = 50.253914, step = 2000 (0.383 sec)\n",
            "INFO:tensorflow:global_step/sec: 272.546\n",
            "INFO:tensorflow:loss = 60.37529, step = 2100 (0.369 sec)\n",
            "INFO:tensorflow:global_step/sec: 264.712\n",
            "INFO:tensorflow:loss = 59.07887, step = 2200 (0.378 sec)\n",
            "INFO:tensorflow:global_step/sec: 271.608\n",
            "INFO:tensorflow:loss = 69.20242, step = 2300 (0.366 sec)\n",
            "INFO:tensorflow:global_step/sec: 270.95\n",
            "INFO:tensorflow:loss = 57.414673, step = 2400 (0.371 sec)\n",
            "INFO:tensorflow:global_step/sec: 272.347\n",
            "INFO:tensorflow:loss = 53.919056, step = 2500 (0.365 sec)\n",
            "INFO:tensorflow:global_step/sec: 271.592\n",
            "INFO:tensorflow:loss = 48.634872, step = 2600 (0.371 sec)\n",
            "INFO:tensorflow:global_step/sec: 258.179\n",
            "INFO:tensorflow:loss = 61.598072, step = 2700 (0.385 sec)\n",
            "INFO:tensorflow:global_step/sec: 268.873\n",
            "INFO:tensorflow:loss = 53.592785, step = 2800 (0.374 sec)\n",
            "INFO:tensorflow:global_step/sec: 267.949\n",
            "INFO:tensorflow:loss = 66.41565, step = 2900 (0.371 sec)\n",
            "INFO:tensorflow:global_step/sec: 243.564\n",
            "INFO:tensorflow:loss = 58.44085, step = 3000 (0.411 sec)\n",
            "INFO:tensorflow:global_step/sec: 261.929\n",
            "INFO:tensorflow:loss = 50.849052, step = 3100 (0.384 sec)\n",
            "INFO:tensorflow:global_step/sec: 264.182\n",
            "INFO:tensorflow:loss = 53.4021, step = 3200 (0.376 sec)\n",
            "INFO:tensorflow:global_step/sec: 271.87\n",
            "INFO:tensorflow:loss = 48.561436, step = 3300 (0.368 sec)\n",
            "WARNING:tensorflow:It seems that global step (tf.train.get_global_step) has not been increased. Current value (could be stable): 3346 vs previous value: 3346. You could increase the global step by passing tf.train.get_global_step() to Optimizer.apply_gradients or Optimizer.minimize.\n",
            "INFO:tensorflow:global_step/sec: 238.414\n",
            "INFO:tensorflow:loss = 52.642265, step = 3400 (0.422 sec)\n",
            "INFO:tensorflow:global_step/sec: 262.021\n",
            "INFO:tensorflow:loss = 50.810776, step = 3500 (0.382 sec)\n",
            "INFO:tensorflow:global_step/sec: 257.817\n",
            "INFO:tensorflow:loss = 53.48376, step = 3600 (0.385 sec)\n",
            "INFO:tensorflow:global_step/sec: 260.755\n",
            "INFO:tensorflow:loss = 56.89467, step = 3700 (0.383 sec)\n",
            "INFO:tensorflow:global_step/sec: 251.418\n",
            "INFO:tensorflow:loss = 54.10598, step = 3800 (0.398 sec)\n",
            "INFO:tensorflow:global_step/sec: 246.62\n",
            "INFO:tensorflow:loss = 57.881462, step = 3900 (0.406 sec)\n",
            "INFO:tensorflow:global_step/sec: 244.713\n",
            "INFO:tensorflow:loss = 54.983986, step = 4000 (0.408 sec)\n",
            "INFO:tensorflow:global_step/sec: 265.17\n",
            "INFO:tensorflow:loss = 58.47145, step = 4100 (0.380 sec)\n",
            "INFO:tensorflow:global_step/sec: 268.498\n",
            "INFO:tensorflow:loss = 52.77813, step = 4200 (0.369 sec)\n",
            "INFO:tensorflow:global_step/sec: 258.621\n",
            "INFO:tensorflow:loss = 61.088673, step = 4300 (0.387 sec)\n",
            "INFO:tensorflow:global_step/sec: 254.137\n",
            "INFO:tensorflow:loss = 50.476788, step = 4400 (0.394 sec)\n",
            "INFO:tensorflow:global_step/sec: 250.526\n",
            "INFO:tensorflow:loss = 51.90686, step = 4500 (0.399 sec)\n",
            "INFO:tensorflow:global_step/sec: 255.362\n",
            "INFO:tensorflow:loss = 49.05529, step = 4600 (0.394 sec)\n",
            "INFO:tensorflow:global_step/sec: 263.003\n",
            "INFO:tensorflow:loss = 47.526737, step = 4700 (0.377 sec)\n",
            "INFO:tensorflow:global_step/sec: 272.541\n",
            "INFO:tensorflow:loss = 54.608864, step = 4800 (0.369 sec)\n",
            "INFO:tensorflow:global_step/sec: 281.268\n",
            "INFO:tensorflow:loss = 38.929344, step = 4900 (0.353 sec)\n",
            "INFO:tensorflow:Saving checkpoints for 5000 into /tmp/tmp87tla0d2/model.ckpt.\n",
            "INFO:tensorflow:Loss for final step: 50.843155.\n"
          ],
          "name": "stdout"
        },
        {
          "output_type": "execute_result",
          "data": {
            "text/plain": [
              "<tensorflow_estimator.python.estimator.canned.dnn.DNNRegressorV2 at 0x7f2df2c43dd8>"
            ]
          },
          "metadata": {
            "tags": []
          },
          "execution_count": 11
        }
      ]
    },
    {
      "cell_type": "code",
      "metadata": {
        "id": "xJ2Dx1uqP-e_"
      },
      "source": [
        ""
      ],
      "execution_count": null,
      "outputs": []
    },
    {
      "cell_type": "markdown",
      "metadata": {
        "id": "3gklxYwmP9gz"
      },
      "source": [
        "# Evaluate on test data"
      ]
    },
    {
      "cell_type": "code",
      "metadata": {
        "id": "GbFeZYZZIosG",
        "outputId": "e5ce8b43-ae1a-4d2d-f4a4-9d0b9b3f26a4",
        "colab": {
          "base_uri": "https://localhost:8080/",
          "height": 423
        }
      },
      "source": [
        "model.evaluate(\n",
        "input_fn=lambda:input_fn(test,test_y,training=False))"
      ],
      "execution_count": 12,
      "outputs": [
        {
          "output_type": "stream",
          "text": [
            "INFO:tensorflow:Calling model_fn.\n",
            "WARNING:tensorflow:Layer dnn is casting an input tensor from dtype float64 to the layer's dtype of float32, which is new behavior in TensorFlow 2.  The layer has dtype float32 because it's dtype defaults to floatx.\n",
            "\n",
            "If you intended to run this layer in float32, you can safely ignore this warning. If in doubt, this warning is likely only an issue if you are porting a TensorFlow 1.X model to TensorFlow 2.\n",
            "\n",
            "To change all layers to have dtype float64 by default, call `tf.keras.backend.set_floatx('float64')`. To change just this layer, pass dtype='float64' to the layer constructor. If you are the author of this layer, you can disable autocasting by passing autocast=False to the base Layer constructor.\n",
            "\n",
            "WARNING:tensorflow:Entity <bound method _DNNModelV2.call of <tensorflow_estimator.python.estimator.canned.dnn._DNNModelV2 object at 0x7f2df14ab160>> could not be transformed and will be executed as-is. Please report this to the AutoGraph team. When filing the bug, set the verbosity to 10 (on Linux, `export AUTOGRAPH_VERBOSITY=10`) and attach the full output. Cause: module 'gast' has no attribute 'Num'\n",
            "WARNING: Entity <bound method _DNNModelV2.call of <tensorflow_estimator.python.estimator.canned.dnn._DNNModelV2 object at 0x7f2df14ab160>> could not be transformed and will be executed as-is. Please report this to the AutoGraph team. When filing the bug, set the verbosity to 10 (on Linux, `export AUTOGRAPH_VERBOSITY=10`) and attach the full output. Cause: module 'gast' has no attribute 'Num'\n",
            "INFO:tensorflow:Done calling model_fn.\n",
            "INFO:tensorflow:Starting evaluation at 2020-10-27T03:39:03Z\n",
            "INFO:tensorflow:Graph was finalized.\n",
            "INFO:tensorflow:Restoring parameters from /tmp/tmp87tla0d2/model.ckpt-5000\n",
            "INFO:tensorflow:Running local_init_op.\n",
            "INFO:tensorflow:Done running local_init_op.\n",
            "INFO:tensorflow:Finished evaluation at 2020-10-27-03:39:04\n",
            "INFO:tensorflow:Saving dict for global step 5000: average_loss = 71.996956, global_step = 5000, label/mean = 22.57451, loss = 71.996956, prediction/mean = 22.179829\n",
            "INFO:tensorflow:Saving 'checkpoint_path' summary for global step 5000: /tmp/tmp87tla0d2/model.ckpt-5000\n"
          ],
          "name": "stdout"
        },
        {
          "output_type": "execute_result",
          "data": {
            "text/plain": [
              "{'average_loss': 71.996956,\n",
              " 'global_step': 5000,\n",
              " 'label/mean': 22.57451,\n",
              " 'loss': 71.996956,\n",
              " 'prediction/mean': 22.179829}"
            ]
          },
          "metadata": {
            "tags": []
          },
          "execution_count": 12
        }
      ]
    },
    {
      "cell_type": "markdown",
      "metadata": {
        "id": "Ag0WSyStQJMq"
      },
      "source": [
        "# Answer of Q2 is 'average_loss': 71.996956"
      ]
    },
    {
      "cell_type": "markdown",
      "metadata": {
        "id": "79Xzbj-cQanE"
      },
      "source": [
        "Q3 Retrain the model of Q2 (from scratch) for 10000 steps instead of 5000 steps. Evaluate the trained model on both the training data and the test data. What is the range of difference between the average loss on the training data and the test data"
      ]
    },
    {
      "cell_type": "code",
      "metadata": {
        "id": "9dp0uuezJ6m1",
        "outputId": "237f5786-9e86-467c-97bb-a1c92d2a1c70",
        "colab": {
          "base_uri": "https://localhost:8080/",
          "height": 171
        }
      },
      "source": [
        "config = tf.estimator.RunConfig(tf_random_seed=1)\n",
        "\n",
        "model2=tf.estimator.DNNRegressor(\n",
        "    feature_columns=feature_columns,\n",
        "    hidden_units=[15],\n",
        "    config=config\n",
        ")"
      ],
      "execution_count": 14,
      "outputs": [
        {
          "output_type": "stream",
          "text": [
            "WARNING:tensorflow:Using temporary folder as model directory: /tmp/tmp4f0qv7lm\n",
            "INFO:tensorflow:Using config: {'_model_dir': '/tmp/tmp4f0qv7lm', '_tf_random_seed': 1, '_save_summary_steps': 100, '_save_checkpoints_steps': None, '_save_checkpoints_secs': 600, '_session_config': allow_soft_placement: true\n",
            "graph_options {\n",
            "  rewrite_options {\n",
            "    meta_optimizer_iterations: ONE\n",
            "  }\n",
            "}\n",
            ", '_keep_checkpoint_max': 5, '_keep_checkpoint_every_n_hours': 10000, '_log_step_count_steps': 100, '_train_distribute': None, '_device_fn': None, '_protocol': None, '_eval_distribute': None, '_experimental_distribute': None, '_experimental_max_worker_delay_secs': None, '_service': None, '_cluster_spec': <tensorflow.python.training.server_lib.ClusterSpec object at 0x7f2df002de80>, '_task_type': 'worker', '_task_id': 0, '_global_id_in_cluster': 0, '_master': '', '_evaluation_master': '', '_is_chief': True, '_num_ps_replicas': 0, '_num_worker_replicas': 1}\n"
          ],
          "name": "stdout"
        }
      ]
    },
    {
      "cell_type": "code",
      "metadata": {
        "id": "nIbLAzKUI0fn",
        "outputId": "68bdacd8-e6dc-42a1-d0bf-09cfbddf4e28",
        "colab": {
          "base_uri": "https://localhost:8080/",
          "height": 1000
        }
      },
      "source": [
        "model2.train(\n",
        "input_fn=lambda:input_fn(train,train_y,training=True),\n",
        "    steps=10000\n",
        ")"
      ],
      "execution_count": 15,
      "outputs": [
        {
          "output_type": "stream",
          "text": [
            "INFO:tensorflow:Calling model_fn.\n",
            "WARNING:tensorflow:Layer dnn is casting an input tensor from dtype float64 to the layer's dtype of float32, which is new behavior in TensorFlow 2.  The layer has dtype float32 because it's dtype defaults to floatx.\n",
            "\n",
            "If you intended to run this layer in float32, you can safely ignore this warning. If in doubt, this warning is likely only an issue if you are porting a TensorFlow 1.X model to TensorFlow 2.\n",
            "\n",
            "To change all layers to have dtype float64 by default, call `tf.keras.backend.set_floatx('float64')`. To change just this layer, pass dtype='float64' to the layer constructor. If you are the author of this layer, you can disable autocasting by passing autocast=False to the base Layer constructor.\n",
            "\n",
            "WARNING:tensorflow:Entity <bound method _DNNModelV2.call of <tensorflow_estimator.python.estimator.canned.dnn._DNNModelV2 object at 0x7f2defecb940>> could not be transformed and will be executed as-is. Please report this to the AutoGraph team. When filing the bug, set the verbosity to 10 (on Linux, `export AUTOGRAPH_VERBOSITY=10`) and attach the full output. Cause: module 'gast' has no attribute 'Num'\n",
            "WARNING: Entity <bound method _DNNModelV2.call of <tensorflow_estimator.python.estimator.canned.dnn._DNNModelV2 object at 0x7f2defecb940>> could not be transformed and will be executed as-is. Please report this to the AutoGraph team. When filing the bug, set the verbosity to 10 (on Linux, `export AUTOGRAPH_VERBOSITY=10`) and attach the full output. Cause: module 'gast' has no attribute 'Num'\n",
            "INFO:tensorflow:Done calling model_fn.\n",
            "INFO:tensorflow:Create CheckpointSaverHook.\n",
            "INFO:tensorflow:Graph was finalized.\n",
            "INFO:tensorflow:Running local_init_op.\n",
            "INFO:tensorflow:Done running local_init_op.\n",
            "INFO:tensorflow:Saving checkpoints for 0 into /tmp/tmp4f0qv7lm/model.ckpt.\n",
            "INFO:tensorflow:loss = 1227.7604, step = 0\n",
            "INFO:tensorflow:global_step/sec: 234.666\n",
            "INFO:tensorflow:loss = 192.87956, step = 100 (0.428 sec)\n",
            "INFO:tensorflow:global_step/sec: 258.87\n",
            "INFO:tensorflow:loss = 118.02481, step = 200 (0.389 sec)\n",
            "INFO:tensorflow:global_step/sec: 266.002\n",
            "INFO:tensorflow:loss = 86.39311, step = 300 (0.373 sec)\n",
            "INFO:tensorflow:global_step/sec: 258.557\n",
            "INFO:tensorflow:loss = 88.922356, step = 400 (0.387 sec)\n",
            "INFO:tensorflow:global_step/sec: 252.186\n",
            "INFO:tensorflow:loss = 73.09772, step = 500 (0.399 sec)\n",
            "INFO:tensorflow:global_step/sec: 263.622\n",
            "INFO:tensorflow:loss = 64.246956, step = 600 (0.377 sec)\n",
            "INFO:tensorflow:global_step/sec: 253.764\n",
            "INFO:tensorflow:loss = 84.3586, step = 700 (0.397 sec)\n",
            "INFO:tensorflow:global_step/sec: 237.034\n",
            "INFO:tensorflow:loss = 65.57454, step = 800 (0.419 sec)\n",
            "INFO:tensorflow:global_step/sec: 258.817\n",
            "INFO:tensorflow:loss = 75.00009, step = 900 (0.386 sec)\n",
            "INFO:tensorflow:global_step/sec: 251.414\n",
            "INFO:tensorflow:loss = 70.6545, step = 1000 (0.398 sec)\n",
            "INFO:tensorflow:global_step/sec: 259.706\n",
            "INFO:tensorflow:loss = 63.29683, step = 1100 (0.388 sec)\n",
            "INFO:tensorflow:global_step/sec: 257.629\n",
            "INFO:tensorflow:loss = 65.69441, step = 1200 (0.385 sec)\n",
            "INFO:tensorflow:global_step/sec: 243.236\n",
            "INFO:tensorflow:loss = 72.51453, step = 1300 (0.413 sec)\n",
            "INFO:tensorflow:global_step/sec: 254.424\n",
            "INFO:tensorflow:loss = 65.94616, step = 1400 (0.391 sec)\n",
            "INFO:tensorflow:global_step/sec: 233.3\n",
            "INFO:tensorflow:loss = 52.87126, step = 1500 (0.429 sec)\n",
            "INFO:tensorflow:global_step/sec: 253.642\n",
            "INFO:tensorflow:loss = 62.451393, step = 1600 (0.394 sec)\n",
            "INFO:tensorflow:global_step/sec: 249.927\n",
            "INFO:tensorflow:loss = 57.337093, step = 1700 (0.402 sec)\n",
            "INFO:tensorflow:global_step/sec: 241.472\n",
            "INFO:tensorflow:loss = 60.72914, step = 1800 (0.413 sec)\n",
            "INFO:tensorflow:global_step/sec: 250.493\n",
            "INFO:tensorflow:loss = 58.77015, step = 1900 (0.399 sec)\n",
            "INFO:tensorflow:global_step/sec: 240.928\n",
            "INFO:tensorflow:loss = 50.253914, step = 2000 (0.415 sec)\n",
            "INFO:tensorflow:global_step/sec: 250.964\n",
            "INFO:tensorflow:loss = 60.37529, step = 2100 (0.401 sec)\n",
            "INFO:tensorflow:global_step/sec: 249.186\n",
            "INFO:tensorflow:loss = 59.07887, step = 2200 (0.402 sec)\n",
            "INFO:tensorflow:global_step/sec: 240.046\n",
            "INFO:tensorflow:loss = 69.20242, step = 2300 (0.414 sec)\n",
            "INFO:tensorflow:global_step/sec: 249.598\n",
            "INFO:tensorflow:loss = 57.414673, step = 2400 (0.401 sec)\n",
            "INFO:tensorflow:global_step/sec: 238.547\n",
            "INFO:tensorflow:loss = 53.919056, step = 2500 (0.419 sec)\n",
            "INFO:tensorflow:global_step/sec: 250.84\n",
            "INFO:tensorflow:loss = 48.634872, step = 2600 (0.399 sec)\n",
            "INFO:tensorflow:global_step/sec: 252.189\n",
            "INFO:tensorflow:loss = 61.598072, step = 2700 (0.399 sec)\n",
            "INFO:tensorflow:global_step/sec: 243.615\n",
            "INFO:tensorflow:loss = 53.592785, step = 2800 (0.410 sec)\n",
            "INFO:tensorflow:global_step/sec: 251.224\n",
            "INFO:tensorflow:loss = 66.41565, step = 2900 (0.397 sec)\n",
            "INFO:tensorflow:global_step/sec: 241.467\n",
            "INFO:tensorflow:loss = 58.44085, step = 3000 (0.413 sec)\n",
            "INFO:tensorflow:global_step/sec: 244.319\n",
            "INFO:tensorflow:loss = 50.849052, step = 3100 (0.412 sec)\n",
            "INFO:tensorflow:global_step/sec: 240.681\n",
            "INFO:tensorflow:loss = 53.4021, step = 3200 (0.416 sec)\n",
            "INFO:tensorflow:global_step/sec: 230.849\n",
            "INFO:tensorflow:loss = 48.561436, step = 3300 (0.433 sec)\n",
            "INFO:tensorflow:global_step/sec: 243.974\n",
            "INFO:tensorflow:loss = 52.642265, step = 3400 (0.408 sec)\n",
            "INFO:tensorflow:global_step/sec: 242.262\n",
            "INFO:tensorflow:loss = 50.810776, step = 3500 (0.415 sec)\n",
            "INFO:tensorflow:global_step/sec: 245.433\n",
            "INFO:tensorflow:loss = 53.48376, step = 3600 (0.407 sec)\n",
            "INFO:tensorflow:global_step/sec: 243.7\n",
            "INFO:tensorflow:loss = 56.89467, step = 3700 (0.408 sec)\n",
            "INFO:tensorflow:global_step/sec: 249.464\n",
            "INFO:tensorflow:loss = 54.10598, step = 3800 (0.401 sec)\n",
            "INFO:tensorflow:global_step/sec: 251.062\n",
            "INFO:tensorflow:loss = 57.881462, step = 3900 (0.398 sec)\n",
            "INFO:tensorflow:global_step/sec: 240.267\n",
            "INFO:tensorflow:loss = 54.983986, step = 4000 (0.419 sec)\n",
            "INFO:tensorflow:global_step/sec: 249.471\n",
            "INFO:tensorflow:loss = 58.47145, step = 4100 (0.398 sec)\n",
            "INFO:tensorflow:global_step/sec: 246.492\n",
            "INFO:tensorflow:loss = 52.77813, step = 4200 (0.408 sec)\n",
            "INFO:tensorflow:global_step/sec: 247.535\n",
            "INFO:tensorflow:loss = 61.088673, step = 4300 (0.404 sec)\n",
            "INFO:tensorflow:global_step/sec: 235.562\n",
            "INFO:tensorflow:loss = 50.476788, step = 4400 (0.423 sec)\n",
            "INFO:tensorflow:global_step/sec: 237.847\n",
            "INFO:tensorflow:loss = 51.90686, step = 4500 (0.420 sec)\n",
            "INFO:tensorflow:global_step/sec: 253.271\n",
            "INFO:tensorflow:loss = 49.05529, step = 4600 (0.395 sec)\n",
            "INFO:tensorflow:global_step/sec: 246.022\n",
            "INFO:tensorflow:loss = 47.526737, step = 4700 (0.407 sec)\n",
            "INFO:tensorflow:global_step/sec: 230.665\n",
            "INFO:tensorflow:loss = 54.608864, step = 4800 (0.436 sec)\n",
            "INFO:tensorflow:global_step/sec: 247.91\n",
            "INFO:tensorflow:loss = 38.929344, step = 4900 (0.403 sec)\n",
            "INFO:tensorflow:global_step/sec: 242.419\n",
            "INFO:tensorflow:loss = 47.922935, step = 5000 (0.409 sec)\n",
            "INFO:tensorflow:global_step/sec: 244.371\n",
            "INFO:tensorflow:loss = 46.219864, step = 5100 (0.413 sec)\n",
            "INFO:tensorflow:global_step/sec: 240.127\n",
            "INFO:tensorflow:loss = 47.774742, step = 5200 (0.413 sec)\n",
            "INFO:tensorflow:global_step/sec: 242.235\n",
            "INFO:tensorflow:loss = 48.25512, step = 5300 (0.413 sec)\n",
            "INFO:tensorflow:global_step/sec: 240.913\n",
            "INFO:tensorflow:loss = 45.473915, step = 5400 (0.417 sec)\n",
            "INFO:tensorflow:global_step/sec: 245.396\n",
            "INFO:tensorflow:loss = 51.773132, step = 5500 (0.408 sec)\n",
            "INFO:tensorflow:global_step/sec: 260.976\n",
            "INFO:tensorflow:loss = 47.47543, step = 5600 (0.381 sec)\n",
            "INFO:tensorflow:global_step/sec: 248.397\n",
            "INFO:tensorflow:loss = 36.744324, step = 5700 (0.403 sec)\n",
            "INFO:tensorflow:global_step/sec: 254.12\n",
            "INFO:tensorflow:loss = 49.35833, step = 5800 (0.396 sec)\n",
            "INFO:tensorflow:global_step/sec: 249.085\n",
            "INFO:tensorflow:loss = 39.288967, step = 5900 (0.399 sec)\n",
            "INFO:tensorflow:global_step/sec: 245.236\n",
            "INFO:tensorflow:loss = 45.301155, step = 6000 (0.410 sec)\n",
            "INFO:tensorflow:global_step/sec: 245.543\n",
            "INFO:tensorflow:loss = 53.552944, step = 6100 (0.405 sec)\n",
            "INFO:tensorflow:global_step/sec: 245.448\n",
            "INFO:tensorflow:loss = 50.94873, step = 6200 (0.410 sec)\n",
            "INFO:tensorflow:global_step/sec: 259.773\n",
            "INFO:tensorflow:loss = 42.806458, step = 6300 (0.383 sec)\n",
            "INFO:tensorflow:global_step/sec: 256.694\n",
            "INFO:tensorflow:loss = 40.708725, step = 6400 (0.390 sec)\n",
            "INFO:tensorflow:global_step/sec: 252.864\n",
            "INFO:tensorflow:loss = 38.053448, step = 6500 (0.395 sec)\n",
            "INFO:tensorflow:global_step/sec: 258.825\n",
            "INFO:tensorflow:loss = 54.92437, step = 6600 (0.389 sec)\n",
            "INFO:tensorflow:global_step/sec: 244.412\n",
            "INFO:tensorflow:loss = 39.632126, step = 6700 (0.406 sec)\n",
            "INFO:tensorflow:global_step/sec: 250.706\n",
            "INFO:tensorflow:loss = 40.736874, step = 6800 (0.402 sec)\n",
            "INFO:tensorflow:global_step/sec: 251.631\n",
            "INFO:tensorflow:loss = 50.043304, step = 6900 (0.395 sec)\n",
            "INFO:tensorflow:global_step/sec: 245.934\n",
            "INFO:tensorflow:loss = 35.965454, step = 7000 (0.407 sec)\n",
            "INFO:tensorflow:global_step/sec: 254.965\n",
            "INFO:tensorflow:loss = 50.58781, step = 7100 (0.394 sec)\n",
            "INFO:tensorflow:global_step/sec: 257.747\n",
            "INFO:tensorflow:loss = 46.332108, step = 7200 (0.388 sec)\n",
            "INFO:tensorflow:global_step/sec: 258.269\n",
            "INFO:tensorflow:loss = 52.833496, step = 7300 (0.385 sec)\n",
            "INFO:tensorflow:global_step/sec: 251.399\n",
            "INFO:tensorflow:loss = 54.378754, step = 7400 (0.398 sec)\n",
            "INFO:tensorflow:global_step/sec: 250.219\n",
            "INFO:tensorflow:loss = 50.74224, step = 7500 (0.402 sec)\n",
            "INFO:tensorflow:global_step/sec: 258.013\n",
            "INFO:tensorflow:loss = 46.115135, step = 7600 (0.386 sec)\n",
            "INFO:tensorflow:global_step/sec: 248.479\n",
            "INFO:tensorflow:loss = 42.41002, step = 7700 (0.404 sec)\n",
            "INFO:tensorflow:global_step/sec: 246.314\n",
            "INFO:tensorflow:loss = 52.792946, step = 7800 (0.405 sec)\n",
            "INFO:tensorflow:global_step/sec: 250.781\n",
            "INFO:tensorflow:loss = 56.610554, step = 7900 (0.399 sec)\n",
            "INFO:tensorflow:global_step/sec: 244.644\n",
            "INFO:tensorflow:loss = 49.61959, step = 8000 (0.409 sec)\n",
            "INFO:tensorflow:global_step/sec: 235.327\n",
            "INFO:tensorflow:loss = 49.190742, step = 8100 (0.425 sec)\n",
            "INFO:tensorflow:global_step/sec: 236.228\n",
            "INFO:tensorflow:loss = 40.788517, step = 8200 (0.423 sec)\n",
            "INFO:tensorflow:global_step/sec: 238.635\n",
            "INFO:tensorflow:loss = 49.942577, step = 8300 (0.419 sec)\n",
            "INFO:tensorflow:global_step/sec: 248.378\n",
            "INFO:tensorflow:loss = 42.375233, step = 8400 (0.403 sec)\n",
            "INFO:tensorflow:global_step/sec: 246.573\n",
            "INFO:tensorflow:loss = 44.91711, step = 8500 (0.408 sec)\n",
            "INFO:tensorflow:global_step/sec: 247.091\n",
            "INFO:tensorflow:loss = 43.838413, step = 8600 (0.403 sec)\n",
            "INFO:tensorflow:global_step/sec: 233.65\n",
            "INFO:tensorflow:loss = 53.297264, step = 8700 (0.428 sec)\n",
            "INFO:tensorflow:global_step/sec: 243.874\n",
            "INFO:tensorflow:loss = 49.08996, step = 8800 (0.410 sec)\n",
            "INFO:tensorflow:global_step/sec: 250.154\n",
            "INFO:tensorflow:loss = 41.920204, step = 8900 (0.399 sec)\n",
            "INFO:tensorflow:global_step/sec: 243.514\n",
            "INFO:tensorflow:loss = 37.928513, step = 9000 (0.411 sec)\n",
            "INFO:tensorflow:global_step/sec: 244.688\n",
            "INFO:tensorflow:loss = 40.666656, step = 9100 (0.411 sec)\n",
            "INFO:tensorflow:global_step/sec: 259.576\n",
            "INFO:tensorflow:loss = 41.745743, step = 9200 (0.386 sec)\n",
            "INFO:tensorflow:global_step/sec: 243.199\n",
            "INFO:tensorflow:loss = 36.830948, step = 9300 (0.411 sec)\n",
            "INFO:tensorflow:global_step/sec: 239.979\n",
            "INFO:tensorflow:loss = 49.243362, step = 9400 (0.414 sec)\n",
            "INFO:tensorflow:global_step/sec: 260.253\n",
            "INFO:tensorflow:loss = 44.295696, step = 9500 (0.384 sec)\n",
            "INFO:tensorflow:global_step/sec: 258.886\n",
            "INFO:tensorflow:loss = 46.236866, step = 9600 (0.387 sec)\n",
            "INFO:tensorflow:global_step/sec: 255.737\n",
            "INFO:tensorflow:loss = 42.1597, step = 9700 (0.393 sec)\n",
            "INFO:tensorflow:global_step/sec: 249.221\n",
            "INFO:tensorflow:loss = 40.6925, step = 9800 (0.401 sec)\n",
            "INFO:tensorflow:global_step/sec: 253.955\n",
            "INFO:tensorflow:loss = 46.003574, step = 9900 (0.392 sec)\n",
            "INFO:tensorflow:Saving checkpoints for 10000 into /tmp/tmp4f0qv7lm/model.ckpt.\n",
            "INFO:tensorflow:Loss for final step: 43.04332.\n"
          ],
          "name": "stdout"
        },
        {
          "output_type": "execute_result",
          "data": {
            "text/plain": [
              "<tensorflow_estimator.python.estimator.canned.dnn.DNNRegressorV2 at 0x7f2df2c434a8>"
            ]
          },
          "metadata": {
            "tags": []
          },
          "execution_count": 15
        }
      ]
    },
    {
      "cell_type": "code",
      "metadata": {
        "id": "jTP01BlHJ0wF",
        "outputId": "6b971a85-48d7-44ca-f54d-fd18c5365003",
        "colab": {
          "base_uri": "https://localhost:8080/",
          "height": 423
        }
      },
      "source": [
        "model2.evaluate(\n",
        "input_fn=lambda:input_fn(test,test_y,training=False))"
      ],
      "execution_count": 16,
      "outputs": [
        {
          "output_type": "stream",
          "text": [
            "INFO:tensorflow:Calling model_fn.\n",
            "WARNING:tensorflow:Layer dnn is casting an input tensor from dtype float64 to the layer's dtype of float32, which is new behavior in TensorFlow 2.  The layer has dtype float32 because it's dtype defaults to floatx.\n",
            "\n",
            "If you intended to run this layer in float32, you can safely ignore this warning. If in doubt, this warning is likely only an issue if you are porting a TensorFlow 1.X model to TensorFlow 2.\n",
            "\n",
            "To change all layers to have dtype float64 by default, call `tf.keras.backend.set_floatx('float64')`. To change just this layer, pass dtype='float64' to the layer constructor. If you are the author of this layer, you can disable autocasting by passing autocast=False to the base Layer constructor.\n",
            "\n",
            "WARNING:tensorflow:Entity <bound method _DNNModelV2.call of <tensorflow_estimator.python.estimator.canned.dnn._DNNModelV2 object at 0x7f2dec887780>> could not be transformed and will be executed as-is. Please report this to the AutoGraph team. When filing the bug, set the verbosity to 10 (on Linux, `export AUTOGRAPH_VERBOSITY=10`) and attach the full output. Cause: module 'gast' has no attribute 'Num'\n",
            "WARNING: Entity <bound method _DNNModelV2.call of <tensorflow_estimator.python.estimator.canned.dnn._DNNModelV2 object at 0x7f2dec887780>> could not be transformed and will be executed as-is. Please report this to the AutoGraph team. When filing the bug, set the verbosity to 10 (on Linux, `export AUTOGRAPH_VERBOSITY=10`) and attach the full output. Cause: module 'gast' has no attribute 'Num'\n",
            "INFO:tensorflow:Done calling model_fn.\n",
            "INFO:tensorflow:Starting evaluation at 2020-10-27T03:46:28Z\n",
            "INFO:tensorflow:Graph was finalized.\n",
            "INFO:tensorflow:Restoring parameters from /tmp/tmp4f0qv7lm/model.ckpt-10000\n",
            "INFO:tensorflow:Running local_init_op.\n",
            "INFO:tensorflow:Done running local_init_op.\n",
            "INFO:tensorflow:Finished evaluation at 2020-10-27-03:46:28\n",
            "INFO:tensorflow:Saving dict for global step 10000: average_loss = 63.046173, global_step = 10000, label/mean = 22.57451, loss = 63.046173, prediction/mean = 22.33523\n",
            "INFO:tensorflow:Saving 'checkpoint_path' summary for global step 10000: /tmp/tmp4f0qv7lm/model.ckpt-10000\n"
          ],
          "name": "stdout"
        },
        {
          "output_type": "execute_result",
          "data": {
            "text/plain": [
              "{'average_loss': 63.046173,\n",
              " 'global_step': 10000,\n",
              " 'label/mean': 22.57451,\n",
              " 'loss': 63.046173,\n",
              " 'prediction/mean': 22.33523}"
            ]
          },
          "metadata": {
            "tags": []
          },
          "execution_count": 16
        }
      ]
    },
    {
      "cell_type": "markdown",
      "metadata": {
        "id": "zh04IbVoQg5R"
      },
      "source": [
        "# **Take difference of both losses and see**\n",
        "**Less than 25**"
      ]
    },
    {
      "cell_type": "code",
      "metadata": {
        "id": "nNo6-f4AKg82"
      },
      "source": [
        ""
      ],
      "execution_count": null,
      "outputs": []
    }
  ]
}
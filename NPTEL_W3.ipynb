{
  "nbformat": 4,
  "nbformat_minor": 0,
  "metadata": {
    "colab": {
      "name": "NPTEL W3.ipynb",
      "provenance": [],
      "collapsed_sections": []
    },
    "kernelspec": {
      "name": "python3",
      "display_name": "Python 3"
    }
  },
  "cells": [
    {
      "cell_type": "markdown",
      "metadata": {
        "id": "0uQ_z1OzSyJS"
      },
      "source": [
        "# Maintainer : Ajeet Kumar"
      ]
    },
    {
      "cell_type": "markdown",
      "metadata": {
        "id": "xP4OI3lFS7qS"
      },
      "source": [
        "**Practical machine learning with tensorflow week3 programming solution 2020**"
      ]
    },
    {
      "cell_type": "markdown",
      "metadata": {
        "id": "uXbfcOx-THCm"
      },
      "source": [
        "Q1. Given a tensor t, load the tensor into a tensorflow’s tf.data.Dataset and run the reduce operation with parameters ​ initial_state = -1​ and ​ reduce_func = lambda x, y: x + y​ on the dataset. Choose the result of the operations from the options below: t =​ ​ [[3, 4, 2, 5, -2, 9, 5], [5, -4, 3, 6, -7, 0, 6], [8, 1, 7, -2, 6, 3, 0]]"
      ]
    },
    {
      "cell_type": "code",
      "metadata": {
        "id": "EvWO6MqCUmf2"
      },
      "source": [
        "import tensorflow as tf"
      ],
      "execution_count": 17,
      "outputs": []
    },
    {
      "cell_type": "code",
      "metadata": {
        "id": "mG1_0GDWRasT"
      },
      "source": [
        "#Define your tensor\n",
        "t = tf.data.Dataset.from_tensor_slices([[3, 4, 2, 5, -2, 9, 5], [5, -4, 3, 6, -7, 0, 6], [8, 1, 7, -2, 6, 3, 0]]) "
      ],
      "execution_count": 18,
      "outputs": []
    },
    {
      "cell_type": "code",
      "metadata": {
        "id": "tySHm_gnSBwW",
        "outputId": "2c1504fb-60f4-4e6c-c42e-a2fd757c7ba5",
        "colab": {
          "base_uri": "https://localhost:8080/",
          "height": 34
        }
      },
      "source": [
        "# Reduce it by passing parameters\n",
        "print('Answer of Q1 is ',t.reduce(-1, lambda x, y: x + y).numpy())\n"
      ],
      "execution_count": 20,
      "outputs": [
        {
          "output_type": "stream",
          "text": [
            "Answer of Q1 is  [15  0 11  8 -4 11 10]\n"
          ],
          "name": "stdout"
        }
      ]
    },
    {
      "cell_type": "markdown",
      "metadata": {
        "id": "5FuFjV5_TMAu"
      },
      "source": [
        "Q2. Using the same tensor from Q1, we load the tensor into a tensorflow’s tf.data.Dataset and run the map operation with ​ map_func = lambda x: (x - tf.reduce_mean(x))​ . We then run the reduce operation with parameters initial_state = -3​ and reduce_func = lambda x, y: 3*x - 4*y​ on the dataset. Choose the result of the operations from the options below:"
      ]
    },
    {
      "cell_type": "code",
      "metadata": {
        "id": "ZWspHCkbdJK_"
      },
      "source": [
        "#Define your tensor\n",
        "t = tf.data.Dataset.from_tensor_slices([[3, 4, 2, 5, -2, 9, 5], [5, -4, 3, 6, -7, 0, 6], [8, 1, 7, -2, 6, 3, 0]]) "
      ],
      "execution_count": 21,
      "outputs": []
    },
    {
      "cell_type": "code",
      "metadata": {
        "id": "AecnyScdceFz",
        "outputId": "5fe8f38d-90f6-4ce9-a742-1f8c15e53025",
        "colab": {
          "base_uri": "https://localhost:8080/",
          "height": 67
        }
      },
      "source": [
        "# First map and visualize answer\n",
        "t = t.map(lambda x: (x-tf.reduce_mean(x)))\n",
        "list(t.as_numpy_iterator())\n"
      ],
      "execution_count": 23,
      "outputs": [
        {
          "output_type": "execute_result",
          "data": {
            "text/plain": [
              "[array([ 0,  1, -1,  2, -5,  6,  2], dtype=int32),\n",
              " array([ 4, -5,  2,  5, -8, -1,  5], dtype=int32),\n",
              " array([ 5, -2,  4, -5,  3,  0, -3], dtype=int32)]"
            ]
          },
          "metadata": {
            "tags": []
          },
          "execution_count": 23
        }
      ]
    },
    {
      "cell_type": "code",
      "metadata": {
        "id": "8WkCEww9eZVs",
        "outputId": "c4c31bac-46ab-48b7-a7b1-b4c0231c0311",
        "colab": {
          "base_uri": "https://localhost:8080/",
          "height": 34
        }
      },
      "source": [
        "# Reduce and print the answer\n",
        "print('Answer of Q2 is :', t.reduce(-3, lambda x, y: 3*x - 4*y).numpy())"
      ],
      "execution_count": 24,
      "outputs": [
        {
          "output_type": "stream",
          "text": [
            "Answer of Q2 is : [-149  -49  -85 -193  183 -285 -201]\n"
          ],
          "name": "stdout"
        }
      ]
    },
    {
      "cell_type": "markdown",
      "metadata": {
        "id": "YazdsMlfsWZv"
      },
      "source": [
        "Q.5 and Q =.6 We are building a two layer neural network with 8 units in the input layer, 4 units in the hidden layer and 1 unit in the output layer. The hidden layer uses ReLU activation and the output layer uses sigmoid activation. Find below the weights and biases of the network. wij is the weight of the jth unit in the ith layer. The bias terms b and output terms o follow the same pattern.\n",
        "\n",
        "\t\t\t\t\t  w11=[−0.05,0.1,0.15,0.2,0.35,0.6,−0.9,−0.1]b11=0.8w12=[−0.5,0.1,0.1,−0.02,0.3,0.36,0.9,0.1]b12=−0.6w13=[−0.05,−0.15,0.1,0.2,0.35,−0.6,0.9,−0.1]b13=0.5w14=[−0.25,0.1,0.1,0.02,0.3,0.36,−0.9,0.1] b14=−0.1\n",
        "\n",
        "\t   Given input x=[1.1,0.2,0.4,−0.9,1.2,0.5,0.6,0.3], what are the outputs (rounded) of the hidden layer"
      ]
    },
    {
      "cell_type": "code",
      "metadata": {
        "id": "Yk6e7xgZscff",
        "outputId": "ef4edb66-6d04-4d72-8beb-51741b12e24f",
        "colab": {
          "base_uri": "https://localhost:8080/",
          "height": 50
        }
      },
      "source": [
        "# import required dependencies\n",
        "import math\n",
        "import numpy as np\n",
        "\n",
        "# Define sigmoid and relu function\n",
        "def sigmoid(x):\n",
        "    return 1 / (1 + math.exp(-x))\n",
        "def relu(x):\n",
        "    return np.maximum(x, 0)\n",
        "\n",
        "# Enter the input matrix\n",
        "x = np.array([1.1,0.2,0.4,-0.9,1.2,0.5,0.6,0.3])\n",
        "\n",
        "# Enter the weight and bias\n",
        "w11 = np.array([-0.05,0.1,0.15,0.2,0.35,0.6,-0.9,-0.1])\n",
        "b11 = 0.8\n",
        "w12 = np.array([-0.5,0.1,0.1,-0.02,0.3,0.36,0.9,0.1])\n",
        "b12 = -0.6\n",
        "w13 = np.array([-0.05,-0.15,0.1, 0.2, 0.35, -0.6, 0.9,-0.1])\n",
        "b13 = 0.5\n",
        "w14 = np.array([-0.25,0.1,0.1,0.02, 0.3, 0.36, -0.9, 0.1] )\n",
        "b14 = -0.1\n",
        "\n",
        "# Create operations of first hidden layer and print\n",
        "o11 = np.dot(x, w11) + b11\n",
        "o12 = np.dot(x, w12) + b12\n",
        "o13 = np.dot(x, w13) + b13\n",
        "o14 = np.dot(x, w14) + b14\n",
        "a1 = relu(np.array([o11, o12, o13, o14]))\n",
        "print('Output from first hidden layer is : ', a1)\n",
        "\n",
        "# Enter the weights and bias of output layer\n",
        "w21 = np.array([-0.05,0.1,0.1,0.2])\n",
        "b21 = 0\n",
        "\n",
        "# Define the functionality of output layer and print the output\n",
        "o21 = sigmoid(np.dot(a1, w21) + b21)\n",
        "print('Final output is :', o21)\n"
      ],
      "execution_count": 26,
      "outputs": [
        {
          "output_type": "stream",
          "text": [
            "Output from first hidden layer is :  [0.795 0.038 0.905 0.   ]\n",
            "Final output is : 0.5136341192441052\n"
          ],
          "name": "stdout"
        }
      ]
    },
    {
      "cell_type": "markdown",
      "metadata": {
        "id": "f7Nkx36Rt7wA"
      },
      "source": [
        "Q.10 What will be the output of the following code"
      ]
    },
    {
      "cell_type": "code",
      "metadata": {
        "id": "uWztsv_lt-Ah",
        "outputId": "d8fce4c6-15e8-44b1-8f67-b798a4c481f3",
        "colab": {
          "base_uri": "https://localhost:8080/",
          "height": 70
        }
      },
      "source": [
        "x = tf.data.Dataset.range(5, 15)\n",
        "y = tf.data.Dataset.range(-1, -50, -1)\n",
        "zipped = tf.data.Dataset.zip((x,y))\n",
        "b = zipped.batch(7)\n",
        "\n",
        "for batch in b.take(4):\n",
        "  print([i.numpy for i in batch])"
      ],
      "execution_count": 27,
      "outputs": [
        {
          "output_type": "stream",
          "text": [
            "[<bound method _EagerTensorBase.numpy of <tf.Tensor: shape=(7,), dtype=int64, numpy=array([ 5,  6,  7,  8,  9, 10, 11])>>, <bound method _EagerTensorBase.numpy of <tf.Tensor: shape=(7,), dtype=int64, numpy=array([-1, -2, -3, -4, -5, -6, -7])>>]\n",
            "[<bound method _EagerTensorBase.numpy of <tf.Tensor: shape=(3,), dtype=int64, numpy=array([12, 13, 14])>>, <bound method _EagerTensorBase.numpy of <tf.Tensor: shape=(3,), dtype=int64, numpy=array([ -8,  -9, -10])>>]\n"
          ],
          "name": "stdout"
        }
      ]
    }
  ]
}
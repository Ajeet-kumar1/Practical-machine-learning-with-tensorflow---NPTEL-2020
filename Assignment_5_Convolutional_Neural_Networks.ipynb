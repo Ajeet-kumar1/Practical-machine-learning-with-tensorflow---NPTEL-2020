{
  "nbformat": 4,
  "nbformat_minor": 0,
  "metadata": {
    "colab": {
      "name": "Assignment 5 - Convolutional Neural Networks.ipynb",
      "provenance": [],
      "private_outputs": true,
      "collapsed_sections": []
    },
    "kernelspec": {
      "name": "python3",
      "display_name": "Python 3"
    },
    "accelerator": "GPU"
  },
  "cells": [
    {
      "cell_type": "markdown",
      "metadata": {
        "id": "pLVhCarMwG70"
      },
      "source": [
        "### **Setup**"
      ]
    },
    {
      "cell_type": "code",
      "metadata": {
        "id": "lD02kYvwYlfD"
      },
      "source": [
        "seed = 1\n",
        "\n",
        "import os\n",
        "os.environ['PYTHONHASHSEED'] = str(seed)\n",
        "os.environ['TF_CUDNN_DETERMINISTIC'] = '1'\n",
        "\n",
        "import random as rn\n",
        "rn.seed(seed)\n",
        "\n",
        "import numpy as np\n",
        "np.random.seed(seed)\n",
        "\n",
        "import tensorflow as tf\n",
        "tf.random.set_seed(seed)"
      ],
      "execution_count": null,
      "outputs": []
    },
    {
      "cell_type": "markdown",
      "metadata": {
        "id": "qGGgAUOKwsWA"
      },
      "source": [
        "### **Importing the dataset**"
      ]
    },
    {
      "cell_type": "code",
      "metadata": {
        "id": "GtGsDLIUfjr6"
      },
      "source": [
        "(train_images, train_labels), (test_images, test_labels) = tf.keras.datasets.cifar10.load_data()\n",
        "print(\"train_images shape:\", train_images.shape)\n",
        "print(\"test_images shape:\", test_images.shape)\n",
        "print(\"train_labels shape:\", train_labels.shape)\n",
        "print(\"test_labels shape:\", test_labels.shape)\n",
        "\n",
        "train_images = train_images / 255\n",
        "test_images = test_images / 255"
      ],
      "execution_count": null,
      "outputs": []
    },
    {
      "cell_type": "markdown",
      "metadata": {
        "id": "DGcbDeTvhNng"
      },
      "source": [
        "### **Building the model**"
      ]
    },
    {
      "cell_type": "code",
      "metadata": {
        "id": "XShPKaYehz_k"
      },
      "source": [
        "model = tf.keras.models.Sequential()\n",
        "\n",
        "from tensorflow.keras import models, layers"
      ],
      "execution_count": null,
      "outputs": []
    },
    {
      "cell_type": "markdown",
      "metadata": {
        "id": "y6B9FgRyyGXe"
      },
      "source": [
        "Model should contain following layers:\n",
        "\n",
        "```\n",
        "1. convolutional layer with 64 filters of size (3, 3), relu activation and the correct input shape\n",
        "2. convolutional layer with 32 filters of size (3, 3), relu activation\n",
        "3. flatten layer\n",
        "4. dense layer with 64 units and relu activation\n",
        "5. dense layer with 10 units and softmax activation\n",
        "```\n",
        "\n",
        "Use 'Adam' optimizer\n",
        "\n",
        "Use 'accuracy' as your metric"
      ]
    },
    {
      "cell_type": "code",
      "metadata": {
        "id": "9qc_9I-HDZzZ"
      },
      "source": [
        "# build the model\n",
        "\n",
        "# convolutional layer with 64 filters of size (3, 3), relu activation and the correct input shape\n",
        "model.add(layers.Conv2D(64, (3, 3), activation='relu', input_shape=(32, 32, 3)))\n",
        "\n",
        "# convolutional layer with 32 filters of size (3, 3), relu activation\n",
        "model.add(layers.Conv2D(32, (3, 3), activation = 'relu'))\n",
        "\n",
        "# flatten layer\n",
        "model.add(layers.Flatten())\n",
        "\n",
        "# dense layer with 64 units and relu activation\n",
        "model.add(layers.Dense(64, activation = 'relu'))\n",
        "\n",
        "# dense layer with 10 units and softmax activation\n",
        "model.add(layers.Dense(10, activation = 'softmax'))\n"
      ],
      "execution_count": null,
      "outputs": []
    },
    {
      "cell_type": "code",
      "metadata": {
        "id": "fTXWDowbzmG4"
      },
      "source": [
        "# check the number of parameters in the model\n",
        "model.summary()"
      ],
      "execution_count": null,
      "outputs": []
    },
    {
      "cell_type": "code",
      "metadata": {
        "id": "mU74Pt7zzwi_"
      },
      "source": [
        "# compile the model\n",
        "model.compile(optimizer='adam',loss = 'sparse_categorical_crossentropy', metrics = ['accuracy'])"
      ],
      "execution_count": null,
      "outputs": []
    },
    {
      "cell_type": "code",
      "metadata": {
        "id": "pKNhfS-_0Uhl"
      },
      "source": [
        "model.fit(train_images, train_labels, epochs=10, batch_size=128, shuffle=True)"
      ],
      "execution_count": null,
      "outputs": []
    },
    {
      "cell_type": "code",
      "metadata": {
        "id": "nFGrfN6X1jWf"
      },
      "source": [
        "loss, accuracy = model.evaluate(test_images, test_labels)\n",
        "print(\"Test Loss:\", loss)\n",
        "print(\"Test Accuracy:\", accuracy)"
      ],
      "execution_count": null,
      "outputs": []
    },
    {
      "cell_type": "code",
      "metadata": {
        "id": "U8Fq8HefGp-5"
      },
      "source": [
        "model2 = tf.keras.models.Sequential()\n",
        "\n",
        "from tensorflow.keras import models, layers"
      ],
      "execution_count": null,
      "outputs": []
    },
    {
      "cell_type": "code",
      "metadata": {
        "id": "qDzR4f_WEmdG"
      },
      "source": [
        "\n",
        "# build the model\n",
        "model2.add(layers.Conv2D(64, (3, 3), activation='relu', input_shape=(32, 32, 3)))\n",
        "model2.add(layers.MaxPooling2D(2, 2))\n",
        "model2.add(layers.Conv2D(32, (3, 3), activation = 'relu'))\n",
        "model2.add(layers.MaxPooling2D(2, 2))\n",
        "\n",
        "model2.add(layers.Flatten())\n",
        "model2.add(layers.Dense(64, activation = 'relu'))\n",
        "model2.add(layers.Dense(10, activation = 'softmax'))\n"
      ],
      "execution_count": null,
      "outputs": []
    },
    {
      "cell_type": "code",
      "metadata": {
        "id": "ZL2duD1MFGYF"
      },
      "source": [
        "# compile the model\n",
        "model2.compile(optimizer='adam',loss = 'sparse_categorical_crossentropy', metrics = ['accuracy'])"
      ],
      "execution_count": null,
      "outputs": []
    },
    {
      "cell_type": "code",
      "metadata": {
        "id": "pcXHcZ-MFHct"
      },
      "source": [
        "model2.fit(train_images, train_labels, epochs=10, batch_size=128, shuffle=True)"
      ],
      "execution_count": null,
      "outputs": []
    },
    {
      "cell_type": "code",
      "metadata": {
        "id": "Mz-C_c0jFKsF"
      },
      "source": [
        "loss, accuracy = model2.evaluate(test_images, test_labels)\n",
        "print(\"Test Loss:\", loss)\n",
        "print(\"Test Accuracy:\", accuracy)"
      ],
      "execution_count": null,
      "outputs": []
    },
    {
      "cell_type": "code",
      "metadata": {
        "id": "8QQJ4PF9HHVY"
      },
      "source": [
        "model2.summary()"
      ],
      "execution_count": null,
      "outputs": []
    },
    {
      "cell_type": "code",
      "metadata": {
        "id": "U2iGDxujHbGM"
      },
      "source": [
        ""
      ],
      "execution_count": null,
      "outputs": []
    }
  ]
}